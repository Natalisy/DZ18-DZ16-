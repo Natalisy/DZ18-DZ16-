{
 "cells": [
  {
   "cell_type": "markdown",
   "metadata": {},
   "source": [
    "Смоделировать игру против лотерейного автомата типа \"777\". Игрок платит 1 руб., после чего выпадает случайное целое число, равномерно распределенное от 0 до 999. При некоторых значениях числа игрок получает выигрыш\n",
    "\n",
    "● Выгодна ли игра игроку? ● Сколько в среднем приобретает или теряет игрок за одну игру?\n",
    "\n",
    "777: 200 руб. 999: 100 руб. 555: 50 руб. 333: 15 руб. 111: 10 руб. 77: 5 руб. *7: 3 руб. 00: 2 руб. *0: 1 руб.\n",
    "\n",
    "* – любая цифра"
   ]
  },
  {
   "cell_type": "code",
   "execution_count": 1,
   "metadata": {},
   "outputs": [],
   "source": [
    "import numpy as np\n",
    "import matplotlib.pyplot as plt"
   ]
  },
  {
   "cell_type": "code",
   "execution_count": 2,
   "metadata": {},
   "outputs": [
    {
     "data": {
      "text/plain": [
       "'Средний выигрыш в 1000 сериях по 100 игр в каждой равняется 89.593'"
      ]
     },
     "execution_count": 2,
     "metadata": {},
     "output_type": "execute_result"
    }
   ],
   "source": [
    "def game_777():\n",
    "    sum_of_rubles = 100\n",
    "    total_prise = 0\n",
    "\n",
    "    for i in range(sum_of_rubles):\n",
    "        current_prise = 0\n",
    "        random_score = np.random.randint(0, 1000)\n",
    "        if random_score == 777:\n",
    "            current_prise = 200\n",
    "        elif random_score == 999:\n",
    "            current_prise = 100\n",
    "        elif random_score == 555:\n",
    "            current_prise = 50\n",
    "        elif random_score == 333:\n",
    "            current_prise = 15\n",
    "        elif random_score == 111:\n",
    "            current_prise = 10\n",
    "        elif random_score % 100 == 77:\n",
    "            current_prise = 5\n",
    "        elif random_score % 10 == 7:\n",
    "            current_prise = 3\n",
    "        elif str(random_score)[-2:] == '00':\n",
    "            current_prise = 2\n",
    "        elif str(random_score)[-1:] == '0':\n",
    "            current_prise = 2\n",
    "\n",
    "        total_prise += current_prise\n",
    "    return total_prise\n",
    "\n",
    "def are_your_loser(count_of_games=1000):\n",
    "    sum_of_wins = 0\n",
    "\n",
    "    for i in range(count_of_games):\n",
    "        current_game = game_777()\n",
    "        sum_of_wins += current_game\n",
    "\n",
    "    mean_of_gain = sum_of_wins/count_of_games\n",
    "    return f'Средний выигрыш в {count_of_games} сериях по 100 игр в каждой равняется {mean_of_gain}'\n",
    "\n",
    "are_your_loser()"
   ]
  },
  {
   "cell_type": "markdown",
   "metadata": {},
   "source": [
    "Дополнительное задание повышенной сложности. Теоретически рассчитать средний выигрыш (проигрыш) и сравнить с результатами моделирования.\n",
    "\n",
    "Какова вероятность выигрыша (любого) в рамках одной партии игры? Всего возможных выигрышных комбинаций 206. Из 1000 возможных (от 000 до 999). Т.е. 206/1000 = 0.206"
   ]
  },
  {
   "cell_type": "code",
   "execution_count": 8,
   "metadata": {},
   "outputs": [
    {
     "name": "stdout",
     "output_type": "stream",
     "text": [
      "Успешных партий: 216, всего попыток: 1000, вероятность из нашего моделирования: 0.216, теоретическая (предсказанная) вероятность: 0.206\n"
     ]
    }
   ],
   "source": [
    "import numpy as np\n",
    "# np.random.seed(None)\n",
    "trials = 1000    # Количество попыток\n",
    "successes = 0    # Количество успехов\n",
    "\n",
    "for i in range(trials):\n",
    "    current_prise = 0\n",
    "    random_score = np.random.randint(0, 1000)\n",
    "    if (random_score == 777 or random_score == 999 or random_score == 555 or \n",
    "     random_score == 333 or random_score == 111):\n",
    "        successes += 1\n",
    "    \n",
    "    elif (random_score % 100 == 77 or random_score % 10 == 7 or\n",
    "     str(random_score)[-2:] == '00' or str(random_score)[-1:] == '0'):\n",
    "        successes += 1\n",
    "        \n",
    "p_monte_carlo = successes / trials    # Вероятность из моделирования\n",
    "p = 206/1000                            # Теоретическая вероятность\n",
    "\n",
    "print(f'Успешных партий: {successes}, всего попыток: {trials}, вероятность из нашего '\n",
    "      f'моделирования: {p_monte_carlo}, теоретическая (предсказанная) вероятность: {p}')"
   ]
  }
 ],
 "metadata": {
  "kernelspec": {
   "display_name": "Python 3",
   "language": "python",
   "name": "python3"
  },
  "language_info": {
   "codemirror_mode": {
    "name": "ipython",
    "version": 3
   },
   "file_extension": ".py",
   "mimetype": "text/x-python",
   "name": "python",
   "nbconvert_exporter": "python",
   "pygments_lexer": "ipython3",
   "version": "3.8.3"
  }
 },
 "nbformat": 4,
 "nbformat_minor": 2
}
